{
 "cells": [
  {
   "cell_type": "code",
   "execution_count": 1,
   "metadata": {},
   "outputs": [],
   "source": [
    "import pandas as pd\n",
    "import pandas_profiling as pp\n",
    "from restaurantsFinder import restaurantFinder\n",
    "import numpy as np\n",
    "np.random.seed(1)\n",
    "import matplotlib.pyplot as plt"
   ]
  },
  {
   "cell_type": "code",
   "execution_count": 2,
   "metadata": {},
   "outputs": [
    {
     "data": {
      "text/html": [
       "<div>\n",
       "<style scoped>\n",
       "    .dataframe tbody tr th:only-of-type {\n",
       "        vertical-align: middle;\n",
       "    }\n",
       "\n",
       "    .dataframe tbody tr th {\n",
       "        vertical-align: top;\n",
       "    }\n",
       "\n",
       "    .dataframe thead th {\n",
       "        text-align: right;\n",
       "    }\n",
       "</style>\n",
       "<table border=\"1\" class=\"dataframe\">\n",
       "  <thead>\n",
       "    <tr style=\"text-align: right;\">\n",
       "      <th></th>\n",
       "      <th>name</th>\n",
       "      <th>xcor</th>\n",
       "      <th>ycor</th>\n",
       "      <th>score</th>\n",
       "      <th>foodPrice</th>\n",
       "    </tr>\n",
       "  </thead>\n",
       "  <tbody>\n",
       "    <tr>\n",
       "      <th>0</th>\n",
       "      <td>0</td>\n",
       "      <td>38</td>\n",
       "      <td>1</td>\n",
       "      <td>9</td>\n",
       "      <td>22</td>\n",
       "    </tr>\n",
       "    <tr>\n",
       "      <th>1</th>\n",
       "      <td>1</td>\n",
       "      <td>13</td>\n",
       "      <td>78</td>\n",
       "      <td>8</td>\n",
       "      <td>22</td>\n",
       "    </tr>\n",
       "    <tr>\n",
       "      <th>2</th>\n",
       "      <td>2</td>\n",
       "      <td>73</td>\n",
       "      <td>7</td>\n",
       "      <td>1</td>\n",
       "      <td>36</td>\n",
       "    </tr>\n",
       "    <tr>\n",
       "      <th>3</th>\n",
       "      <td>3</td>\n",
       "      <td>10</td>\n",
       "      <td>53</td>\n",
       "      <td>4</td>\n",
       "      <td>22</td>\n",
       "    </tr>\n",
       "    <tr>\n",
       "      <th>4</th>\n",
       "      <td>4</td>\n",
       "      <td>76</td>\n",
       "      <td>86</td>\n",
       "      <td>5</td>\n",
       "      <td>17</td>\n",
       "    </tr>\n",
       "  </tbody>\n",
       "</table>\n",
       "</div>"
      ],
      "text/plain": [
       "   name  xcor  ycor  score  foodPrice\n",
       "0     0    38     1      9         22\n",
       "1     1    13    78      8         22\n",
       "2     2    73     7      1         36\n",
       "3     3    10    53      4         22\n",
       "4     4    76    86      5         17"
      ]
     },
     "execution_count": 2,
     "metadata": {},
     "output_type": "execute_result"
    }
   ],
   "source": [
    "df = pd.read_csv('../data/restaurants.csv')\n",
    "df.head()"
   ]
  },
  {
   "cell_type": "code",
   "execution_count": 3,
   "metadata": {},
   "outputs": [
    {
     "name": "stdout",
     "output_type": "stream",
     "text": [
      "<class 'pandas.core.frame.DataFrame'>\n",
      "RangeIndex: 100 entries, 0 to 99\n",
      "Data columns (total 5 columns):\n",
      " #   Column     Non-Null Count  Dtype\n",
      "---  ------     --------------  -----\n",
      " 0   name       100 non-null    int64\n",
      " 1   xcor       100 non-null    int64\n",
      " 2   ycor       100 non-null    int64\n",
      " 3   score      100 non-null    int64\n",
      " 4   foodPrice  100 non-null    int64\n",
      "dtypes: int64(5)\n",
      "memory usage: 4.0 KB\n"
     ]
    }
   ],
   "source": [
    "df.info()"
   ]
  },
  {
   "cell_type": "markdown",
   "metadata": {},
   "source": [
    "## EDA"
   ]
  },
  {
   "cell_type": "code",
   "execution_count": 4,
   "metadata": {},
   "outputs": [],
   "source": [
    "# pp.ProfileReport(df)"
   ]
  },
  {
   "cell_type": "markdown",
   "metadata": {},
   "source": [
    "## Code Implementation"
   ]
  },
  {
   "cell_type": "code",
   "execution_count": 5,
   "metadata": {},
   "outputs": [
    {
     "name": "stdout",
     "output_type": "stream",
     "text": [
      "[]\n",
      "[ 0 38  1  9 22]\n",
      "[ 1 13 78  8 22]\n",
      "[ 2 73  7  1 36]\n",
      "[ 3 10 53  4 22]\n",
      "[ 4 76 86  5 17]\n",
      "[ 5  6 71  3 33]\n",
      "[ 6 80  3  1 49]\n",
      "[ 7 65 77  4 22]\n",
      "[ 8 17 92  6 48]\n",
      "[ 9  2 22  2 37]\n",
      "[10 77 76  3 15]\n",
      "[11 72  8  5 44]\n",
      "[12  7 78  4 43]\n",
      "[13 26 73  1 36]\n",
      "[14 51 76  7 15]\n",
      "[15 21 77  1 19]\n",
      "[16 19 44  8 35]\n",
      "[17 85 21  3 37]\n",
      "[18 12 31  9 11]\n",
      "[19 29 37  4 28]\n",
      "[20 30  8  1 40]\n",
      "[21 15 46  9 42]\n",
      "[22 51 69  5 36]\n",
      "[23 69 58  3 30]\n",
      "[24 88 83 10 40]\n",
      "[25 88 97  1 49]\n",
      "[26 95 14  4 10]\n",
      "[27 97 11  9 32]\n",
      "[28 87 24  2 44]\n",
      "[29 14 82  5 13]\n",
      "[30 10  8  4 16]\n",
      "[31  8 25  4 22]\n",
      "[32 64 75  7 49]\n",
      "[33 62 93  8 48]\n",
      "[34 23 21  4 29]\n",
      "[35 58 33  6 16]\n",
      "[36  2 13  4 23]\n",
      "[37  1 66  3 46]\n",
      "[38 61 95  5 33]\n",
      "[39 82 61  5 32]\n",
      "[40  9 25  1 12]\n",
      "[41 89 83  4 38]\n",
      "[42 14 98  4 41]\n",
      "[43 48  3  9 19]\n",
      "[44 73 93  4 34]\n",
      "[45 31 99  6 39]\n",
      "[46 72 11  7 22]\n",
      "[47  4 55  8 28]\n",
      "[48 71 97  6 21]\n",
      "[49 22 83  2 46]\n",
      "[50 50 87  8 26]\n",
      "[51 58 71  1 40]\n",
      "[52  4 67  3 30]\n",
      "[53 69 72  9 45]\n",
      "[54 25 49  3 27]\n",
      "[55 44 55  2 12]\n",
      "[56 77 16  5 31]\n",
      "[57 27  6  1 39]\n",
      "[58 53 18  5 46]\n",
      "[59 81 43  2 26]\n",
      "[60 42 21  8 37]\n",
      "[61 83 49  4 18]\n",
      "[62 16 23  2 38]\n",
      "[63 65 14  7 12]\n",
      "[64 69 98  7 45]\n",
      "[65 26 54 10 23]\n",
      "[66 99 85  7 46]\n",
      "[67 88 11 10 46]\n",
      "[68  8 97  7 50]\n",
      "[69 27 56  1 28]\n",
      "[70 26 62  1 43]\n",
      "[71 23 57  3 48]\n",
      "[72 10 90 10 50]\n",
      "[73 68 22  7 35]\n",
      "[74 24 97  1 49]\n",
      "[75 28 84  7 47]\n",
      "[76 38 26  8 12]\n",
      "[77 58 15  1 44]\n",
      "[78 84 14  4 38]\n",
      "[79 39 85 10 24]\n",
      "[80  9 44  1 21]\n",
      "[81 33  7  4 36]\n",
      "[82 35 78  5 50]\n",
      "[83 11 57  8 31]\n",
      "[84 24 60  6 26]\n",
      "[85 16 16  4 38]\n",
      "[86 88 25  9 47]\n",
      "[87 26 10  9 50]\n",
      "[88 72 67  1 21]\n",
      "[89 93 72  7 32]\n",
      "[90 75 54  8 16]\n",
      "[91 63 70 10 42]\n",
      "[92 47 37  6 24]\n",
      "[93 33 22  5 46]\n",
      "[94 89 41 10 33]\n",
      "[95 24 78  6 21]\n",
      "[96 56 92  3 45]\n",
      "[97 66 50  6 42]\n",
      "[98 78 48  7 37]\n",
      "[99  4 78  7 48]\n",
      "[array([24, 88, 83, 10, 40])]\n",
      "[ 0 38  1  9 22]\n"
     ]
    },
    {
     "ename": "ValueError",
     "evalue": "The truth value of an array with more than one element is ambiguous. Use a.any() or a.all()",
     "output_type": "error",
     "traceback": [
      "\u001b[0;31m---------------------------------------------------------------------------\u001b[0m",
      "\u001b[0;31mValueError\u001b[0m                                Traceback (most recent call last)",
      "\u001b[1;32m/home/ozan/441proje/src/restaurantsFinder.ipynb Cell 7'\u001b[0m in \u001b[0;36m<cell line: 2>\u001b[0;34m()\u001b[0m\n\u001b[1;32m      <a href='vscode-notebook-cell://wsl%2Bubuntu/home/ozan/441proje/src/restaurantsFinder.ipynb#ch0000006vscode-remote?line=0'>1</a>\u001b[0m arr \u001b[39m=\u001b[39m np\u001b[39m.\u001b[39marray(df)\n\u001b[0;32m----> <a href='vscode-notebook-cell://wsl%2Bubuntu/home/ozan/441proje/src/restaurantsFinder.ipynb#ch0000006vscode-remote?line=1'>2</a>\u001b[0m restaurantFinder \u001b[39m=\u001b[39m restaurantFinder(arr,\u001b[39m\"\u001b[39;49m\u001b[39mgreedy\u001b[39;49m\u001b[39m\"\u001b[39;49m,\u001b[39m500\u001b[39;49m,\u001b[39m240\u001b[39;49m)\n",
      "File \u001b[0;32m~/441proje/src/restaurantsFinder.py:27\u001b[0m, in \u001b[0;36mrestaurantFinder.__init__\u001b[0;34m(self, restaurants, method, money, time)\u001b[0m\n\u001b[1;32m     <a href='file:///home/ozan/441proje/src/restaurantsFinder.py?line=24'>25</a>\u001b[0m \u001b[39mself\u001b[39m\u001b[39m.\u001b[39mmoney \u001b[39m=\u001b[39m money\n\u001b[1;32m     <a href='file:///home/ozan/441proje/src/restaurantsFinder.py?line=25'>26</a>\u001b[0m \u001b[39mself\u001b[39m\u001b[39m.\u001b[39mroot \u001b[39m=\u001b[39m Tree(\u001b[39mNone\u001b[39;00m, \u001b[39mNone\u001b[39;00m)\n\u001b[0;32m---> <a href='file:///home/ozan/441proje/src/restaurantsFinder.py?line=26'>27</a>\u001b[0m \u001b[39mself\u001b[39;49m\u001b[39m.\u001b[39;49mrunMethod()\n",
      "File \u001b[0;32m~/441proje/src/restaurantsFinder.py:31\u001b[0m, in \u001b[0;36mrestaurantFinder.runMethod\u001b[0;34m(self)\u001b[0m\n\u001b[1;32m     <a href='file:///home/ozan/441proje/src/restaurantsFinder.py?line=28'>29</a>\u001b[0m \u001b[39mdef\u001b[39;00m \u001b[39mrunMethod\u001b[39m(\u001b[39mself\u001b[39m):\n\u001b[1;32m     <a href='file:///home/ozan/441proje/src/restaurantsFinder.py?line=29'>30</a>\u001b[0m     \u001b[39mif\u001b[39;00m \u001b[39mself\u001b[39m\u001b[39m.\u001b[39mmethod \u001b[39m==\u001b[39m \u001b[39m\"\u001b[39m\u001b[39mgreedy\u001b[39m\u001b[39m\"\u001b[39m:\n\u001b[0;32m---> <a href='file:///home/ozan/441proje/src/restaurantsFinder.py?line=30'>31</a>\u001b[0m         \u001b[39mreturn\u001b[39;00m \u001b[39mself\u001b[39;49m\u001b[39m.\u001b[39;49mgreedyBestFirstSearch(\u001b[39mself\u001b[39;49m\u001b[39m.\u001b[39;49mmoney, \u001b[39mself\u001b[39;49m\u001b[39m.\u001b[39;49mtime)\n\u001b[1;32m     <a href='file:///home/ozan/441proje/src/restaurantsFinder.py?line=31'>32</a>\u001b[0m     \u001b[39melse\u001b[39;00m:\n\u001b[1;32m     <a href='file:///home/ozan/441proje/src/restaurantsFinder.py?line=32'>33</a>\u001b[0m         \u001b[39mreturn\u001b[39;00m \u001b[39mself\u001b[39m\u001b[39m.\u001b[39maStarSearch(\u001b[39mself\u001b[39m\u001b[39m.\u001b[39mmoney, \u001b[39mself\u001b[39m\u001b[39m.\u001b[39mtime)\n",
      "File \u001b[0;32m~/441proje/src/restaurantsFinder.py:107\u001b[0m, in \u001b[0;36mrestaurantFinder.greedyBestFirstSearch\u001b[0;34m(self, money, time)\u001b[0m\n\u001b[1;32m    <a href='file:///home/ozan/441proje/src/restaurantsFinder.py?line=104'>105</a>\u001b[0m visitedRestaurant \u001b[39m=\u001b[39m \u001b[39mNone\u001b[39;00m\n\u001b[1;32m    <a href='file:///home/ozan/441proje/src/restaurantsFinder.py?line=105'>106</a>\u001b[0m \u001b[39mwhile\u001b[39;00m \u001b[39mTrue\u001b[39;00m:\n\u001b[0;32m--> <a href='file:///home/ozan/441proje/src/restaurantsFinder.py?line=106'>107</a>\u001b[0m     bestRestaurant \u001b[39m=\u001b[39m \u001b[39mself\u001b[39;49m\u001b[39m.\u001b[39;49mbestRestaurant(\n\u001b[1;32m    <a href='file:///home/ozan/441proje/src/restaurantsFinder.py?line=107'>108</a>\u001b[0m          visitedRestaurants, visitedMoney, visitedTime, visitedRestaurant)\n\u001b[1;32m    <a href='file:///home/ozan/441proje/src/restaurantsFinder.py?line=108'>109</a>\u001b[0m     \u001b[39mif\u001b[39;00m bestRestaurant \u001b[39mis\u001b[39;00m \u001b[39mNone\u001b[39;00m:\n\u001b[1;32m    <a href='file:///home/ozan/441proje/src/restaurantsFinder.py?line=109'>110</a>\u001b[0m         \u001b[39mbreak\u001b[39;00m\n",
      "File \u001b[0;32m~/441proje/src/restaurantsFinder.py:87\u001b[0m, in \u001b[0;36mrestaurantFinder.bestRestaurant\u001b[0;34m(self, visitedRestaurants, visitedMoney, visitedTime, visitedRestaurant)\u001b[0m\n\u001b[1;32m     <a href='file:///home/ozan/441proje/src/restaurantsFinder.py?line=84'>85</a>\u001b[0m \u001b[39mprint\u001b[39m(restaurant)\n\u001b[1;32m     <a href='file:///home/ozan/441proje/src/restaurantsFinder.py?line=85'>86</a>\u001b[0m \u001b[39mif\u001b[39;00m restaurant[FOODPRICE] \u001b[39m+\u001b[39m \u001b[39mself\u001b[39m\u001b[39m.\u001b[39mgetDistance(visitedRestaurant, restaurant) \u001b[39m+\u001b[39m visitedMoney \u001b[39m<\u001b[39m\u001b[39m=\u001b[39m \u001b[39mself\u001b[39m\u001b[39m.\u001b[39mmoney:\n\u001b[0;32m---> <a href='file:///home/ozan/441proje/src/restaurantsFinder.py?line=86'>87</a>\u001b[0m     \u001b[39mif\u001b[39;00m restaurant[SCORE] \u001b[39m>\u001b[39m bestScore \u001b[39mand\u001b[39;00m restaurant \u001b[39mnot\u001b[39;49;00m \u001b[39min\u001b[39;49;00m visitedRestaurants:\n\u001b[1;32m     <a href='file:///home/ozan/441proje/src/restaurantsFinder.py?line=87'>88</a>\u001b[0m         bestRestaurant \u001b[39m=\u001b[39m restaurant\n\u001b[1;32m     <a href='file:///home/ozan/441proje/src/restaurantsFinder.py?line=88'>89</a>\u001b[0m         bestScore \u001b[39m=\u001b[39m restaurant[SCORE]\n",
      "\u001b[0;31mValueError\u001b[0m: The truth value of an array with more than one element is ambiguous. Use a.any() or a.all()"
     ]
    }
   ],
   "source": [
    "arr = np.array(df)\n",
    "restaurantFinder = restaurantFinder(arr,\"greedy\",500,240)"
   ]
  },
  {
   "cell_type": "code",
   "execution_count": null,
   "metadata": {},
   "outputs": [
    {
     "name": "stdout",
     "output_type": "stream",
     "text": [
      "[ 5  6 71  3 33]\n"
     ]
    }
   ],
   "source": [
    "print(restaurantFinder.find(5))"
   ]
  },
  {
   "cell_type": "code",
   "execution_count": null,
   "metadata": {},
   "outputs": [
    {
     "ename": "ValueError",
     "evalue": "The truth value of an array with more than one element is ambiguous. Use a.any() or a.all()",
     "output_type": "error",
     "traceback": [
      "\u001b[0;31m---------------------------------------------------------------------------\u001b[0m",
      "\u001b[0;31mValueError\u001b[0m                                Traceback (most recent call last)",
      "\u001b[1;32m/home/ozan/441proje/src/restaurantsFinder.ipynb Cell 9'\u001b[0m in \u001b[0;36m<cell line: 1>\u001b[0;34m()\u001b[0m\n\u001b[0;32m----> <a href='vscode-notebook-cell://wsl%2Bubuntu/home/ozan/441proje/src/restaurantsFinder.ipynb#ch0000008vscode-remote?line=0'>1</a>\u001b[0m restaurantFinder\u001b[39m.\u001b[39;49mrunMethod()\n",
      "File \u001b[0;32m~/441proje/src/restaurantsFinder.py:30\u001b[0m, in \u001b[0;36mrestaurantFinder.runMethod\u001b[0;34m(self)\u001b[0m\n\u001b[1;32m     <a href='file:///home/ozan/441proje/src/restaurantsFinder.py?line=27'>28</a>\u001b[0m \u001b[39mdef\u001b[39;00m \u001b[39mrunMethod\u001b[39m(\u001b[39mself\u001b[39m):\n\u001b[1;32m     <a href='file:///home/ozan/441proje/src/restaurantsFinder.py?line=28'>29</a>\u001b[0m     \u001b[39mif\u001b[39;00m \u001b[39mself\u001b[39m\u001b[39m.\u001b[39mmethod \u001b[39m==\u001b[39m \u001b[39m\"\u001b[39m\u001b[39mgreedy\u001b[39m\u001b[39m\"\u001b[39m:\n\u001b[0;32m---> <a href='file:///home/ozan/441proje/src/restaurantsFinder.py?line=29'>30</a>\u001b[0m         \u001b[39mreturn\u001b[39;00m \u001b[39mself\u001b[39;49m\u001b[39m.\u001b[39;49mgreedyBestFirstSearch(\u001b[39mself\u001b[39;49m\u001b[39m.\u001b[39;49mmoney, \u001b[39mself\u001b[39;49m\u001b[39m.\u001b[39;49mtime)\n\u001b[1;32m     <a href='file:///home/ozan/441proje/src/restaurantsFinder.py?line=30'>31</a>\u001b[0m     \u001b[39melse\u001b[39;00m:\n\u001b[1;32m     <a href='file:///home/ozan/441proje/src/restaurantsFinder.py?line=31'>32</a>\u001b[0m         \u001b[39mreturn\u001b[39;00m \u001b[39mself\u001b[39m\u001b[39m.\u001b[39maStarSearch(\u001b[39mself\u001b[39m\u001b[39m.\u001b[39mmoney, \u001b[39mself\u001b[39m\u001b[39m.\u001b[39mtime)\n",
      "File \u001b[0;32m~/441proje/src/restaurantsFinder.py:104\u001b[0m, in \u001b[0;36mrestaurantFinder.greedyBestFirstSearch\u001b[0;34m(self, money, time)\u001b[0m\n\u001b[1;32m    <a href='file:///home/ozan/441proje/src/restaurantsFinder.py?line=101'>102</a>\u001b[0m visitedRestaurant \u001b[39m=\u001b[39m \u001b[39mNone\u001b[39;00m\n\u001b[1;32m    <a href='file:///home/ozan/441proje/src/restaurantsFinder.py?line=102'>103</a>\u001b[0m \u001b[39mwhile\u001b[39;00m \u001b[39mTrue\u001b[39;00m:\n\u001b[0;32m--> <a href='file:///home/ozan/441proje/src/restaurantsFinder.py?line=103'>104</a>\u001b[0m     bestRestaurant \u001b[39m=\u001b[39m \u001b[39mself\u001b[39;49m\u001b[39m.\u001b[39;49mbestRestaurant(\n\u001b[1;32m    <a href='file:///home/ozan/441proje/src/restaurantsFinder.py?line=104'>105</a>\u001b[0m          visitedRestaurants, visitedMoney, visitedTime, visitedRestaurant)\n\u001b[1;32m    <a href='file:///home/ozan/441proje/src/restaurantsFinder.py?line=105'>106</a>\u001b[0m     \u001b[39mif\u001b[39;00m bestRestaurant \u001b[39mis\u001b[39;00m \u001b[39mNone\u001b[39;00m:\n\u001b[1;32m    <a href='file:///home/ozan/441proje/src/restaurantsFinder.py?line=106'>107</a>\u001b[0m         \u001b[39mbreak\u001b[39;00m\n",
      "File \u001b[0;32m~/441proje/src/restaurantsFinder.py:84\u001b[0m, in \u001b[0;36mrestaurantFinder.bestRestaurant\u001b[0;34m(self, visitedRestaurants, visitedMoney, visitedTime, visitedRestaurant)\u001b[0m\n\u001b[1;32m     <a href='file:///home/ozan/441proje/src/restaurantsFinder.py?line=81'>82</a>\u001b[0m \u001b[39mif\u001b[39;00m \u001b[39m15\u001b[39m \u001b[39m+\u001b[39m visitedTime \u001b[39m<\u001b[39m\u001b[39m=\u001b[39m \u001b[39mself\u001b[39m\u001b[39m.\u001b[39mtime:\n\u001b[1;32m     <a href='file:///home/ozan/441proje/src/restaurantsFinder.py?line=82'>83</a>\u001b[0m     \u001b[39mif\u001b[39;00m restaurant[FOODPRICE] \u001b[39m+\u001b[39m \u001b[39mself\u001b[39m\u001b[39m.\u001b[39mgetDistance(visitedRestaurant, restaurant) \u001b[39m+\u001b[39m visitedMoney \u001b[39m<\u001b[39m\u001b[39m=\u001b[39m \u001b[39mself\u001b[39m\u001b[39m.\u001b[39mmoney:\n\u001b[0;32m---> <a href='file:///home/ozan/441proje/src/restaurantsFinder.py?line=83'>84</a>\u001b[0m         \u001b[39mif\u001b[39;00m restaurant[SCORE] \u001b[39m>\u001b[39m bestScore \u001b[39mand\u001b[39;00m restaurant \u001b[39mnot\u001b[39;49;00m \u001b[39min\u001b[39;49;00m visitedRestaurants:\n\u001b[1;32m     <a href='file:///home/ozan/441proje/src/restaurantsFinder.py?line=84'>85</a>\u001b[0m             bestRestaurant \u001b[39m=\u001b[39m restaurant\n\u001b[1;32m     <a href='file:///home/ozan/441proje/src/restaurantsFinder.py?line=85'>86</a>\u001b[0m             bestScore \u001b[39m=\u001b[39m restaurant[SCORE]\n",
      "\u001b[0;31mValueError\u001b[0m: The truth value of an array with more than one element is ambiguous. Use a.any() or a.all()"
     ]
    }
   ],
   "source": [
    "restaurantFinder.runMethod()"
   ]
  }
 ],
 "metadata": {
  "interpreter": {
   "hash": "916dbcbb3f70747c44a77c7bcd40155683ae19c65e1c03b4aa3499c5328201f1"
  },
  "kernelspec": {
   "display_name": "Python 3.8.10 64-bit",
   "language": "python",
   "name": "python3"
  },
  "language_info": {
   "codemirror_mode": {
    "name": "ipython",
    "version": 3
   },
   "file_extension": ".py",
   "mimetype": "text/x-python",
   "name": "python",
   "nbconvert_exporter": "python",
   "pygments_lexer": "ipython3",
   "version": "3.8.10"
  },
  "orig_nbformat": 4
 },
 "nbformat": 4,
 "nbformat_minor": 2
}
